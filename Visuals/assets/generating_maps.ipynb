{
 "cells": [
  {
   "cell_type": "code",
   "execution_count": 1,
   "metadata": {},
   "outputs": [],
   "source": [
    "import pandas as pd \n",
    "import numpy as np\n",
    "import matplotlib.pyplot as plt \n",
    "import os "
   ]
  },
  {
   "cell_type": "code",
   "execution_count": 2,
   "metadata": {},
   "outputs": [],
   "source": [
    "dataframe =pd.read_csv(os.path.join(r\"C:\\Users\\mohan\\Machine-learning-models\\datasets\",'share-deaths-suicide.csv'))"
   ]
  },
  {
   "cell_type": "code",
   "execution_count": 3,
   "metadata": {},
   "outputs": [],
   "source": [
    "years = np.unique(dataframe['Year'])\n",
    "countries = np.unique(dataframe['Entity'])\n",
    "\n",
    "#view the death rate of a certain country \n",
    "def view_countryRate(country_name):\n",
    "    country_deaths = []\n",
    "    Query = dataframe.where(dataframe['Entity'] == country_name)\n",
    "    for i in Query['Deaths']:\n",
    "        if(i > 0 or i <= 100):\n",
    "            country_deaths.append(i)\n",
    "    if len(country_deaths) == 0:\n",
    "        return 'No Country with that Name'\n",
    "    plot_country(country_name, country_deaths)\n",
    "\n",
    "#view the death rate of all countries \n",
    "def view_agg():\n",
    "    countries_deaths = {}\n",
    "    for i in countries:\n",
    "        countries_deaths[i] = view_countryRate(i)\n",
    "    return countries_deaths \n",
    "\n",
    "def plot_country(country_name, country_deaths):\n",
    "    plt.plot(years,country_deaths, color = 'blue')\n",
    "    plt.title(country_name + ' suicide rates')\n",
    "    plt.savefig(country_name+'.jpg', bbox_inches='tight', dpi=150)\n",
    "    plt.clf()"
   ]
  },
  {
   "cell_type": "code",
   "execution_count": 4,
   "metadata": {},
   "outputs": [
    {
     "data": {
      "text/plain": [
       "<Figure size 432x288 with 0 Axes>"
      ]
     },
     "metadata": {},
     "output_type": "display_data"
    }
   ],
   "source": [
    "for i in countries:\n",
    "    view_countryRate(i)"
   ]
  },
  {
   "cell_type": "code",
   "execution_count": null,
   "metadata": {},
   "outputs": [],
   "source": []
  }
 ],
 "metadata": {
  "kernelspec": {
   "display_name": "Python 3",
   "language": "python",
   "name": "python3"
  },
  "language_info": {
   "codemirror_mode": {
    "name": "ipython",
    "version": 3
   },
   "file_extension": ".py",
   "mimetype": "text/x-python",
   "name": "python",
   "nbconvert_exporter": "python",
   "pygments_lexer": "ipython3",
   "version": "3.7.4"
  }
 },
 "nbformat": 4,
 "nbformat_minor": 4
}
